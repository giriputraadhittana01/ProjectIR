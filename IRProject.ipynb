{
 "cells": [
  {
   "cell_type": "code",
   "execution_count": 3,
   "metadata": {},
   "outputs": [],
   "source": [
    "import pandas as pd\n",
    "from gensim.parsing.preprocessing import remove_stopwords,PorterStemmer\n",
    "from nltk.tokenize import casual_tokenize\n",
    "from nltk.stem import SnowballStemmer\n",
    "from nltk.stem.wordnet import WordNetLemmatizer\n",
    "from nltk.corpus import brown\n",
    "import numpy as np\n",
    "from sklearn.preprocessing import OneHotEncoder"
   ]
  },
  {
   "cell_type": "code",
   "execution_count": 5,
   "metadata": {},
   "outputs": [
    {
     "output_type": "stream",
     "name": "stdout",
     "text": [
      "\n"
     ]
    }
   ],
   "source": [
    "dataset = pd.read_csv(\"all-data.csv\",\n",
    "                      encoding=\"ISO-8859-1\",\n",
    "                      names=[\"target\",\"text\"])  \n",
    "X_data = dataset['text'].values\n",
    "y_data = dataset['target'].values"
   ]
  },
  {
   "cell_type": "code",
   "execution_count": 6,
   "metadata": {
    "tags": []
   },
   "outputs": [
    {
     "output_type": "stream",
     "name": "stdout",
     "text": [
      "\n"
     ]
    }
   ],
   "source": [
    "data_dummy = dataset.copy()\n",
    "X_dummy = data_dummy['text']\n",
    "y_clean = data_dummy['target']\n",
    "\n",
    "# Convert to Lower Case\n",
    "X_dummy = X_dummy.str.lower()\n",
    "# Replace Number\n",
    "X_dummy = X_dummy.str.replace(\"(\\d+)[^ ]*\",' ')\n",
    "# Replace URL\n",
    "X_dummy = X_dummy.str.replace(\"(http://)[^ ]*|(https://)[^ ]*|(www\\.)[^ ]*\",' ')\n",
    "# Replace Tag\n",
    "X_dummy = X_dummy.str.replace(\"@[^ ]*\",' ')\n",
    "# Replace ' to nothing\n",
    "X_dummy = X_dummy.str.replace(\"'\",'')\n",
    "# Remove Punctuation\n",
    "X_dummy = X_dummy.str.replace('[!\"#$%&()*+,-./:;<=>?@[\\]^_`{|}~]',' ')\n",
    "# Replace 3+ Consecutive Letter with only 2\n",
    "X_dummy = X_dummy.str.replace(\"(.)\\\\1\\\\1+\",'\\\\1\\\\1')\n",
    "# Remove Independent words with length 1\n",
    "X_dummy = X_dummy.str.replace(\"(^| ).( |$)\",' ')\n",
    "\n",
    "X_dummy[0:10]"
   ]
  },
  {
   "cell_type": "code",
   "execution_count": 7,
   "metadata": {},
   "outputs": [
    {
     "output_type": "stream",
     "name": "stdout",
     "text": [
      "\n"
     ]
    }
   ],
   "source": [
    "X_clean = []\n",
    "for sentence in X_dummy:\n",
    "    # sentence = str(TextBlob(sentence).correct())\n",
    "    tokenized = casual_tokenize(sentence)\n",
    "    new_tokenized = \"\"\n",
    "    for word in tokenized:\n",
    "        #Remove Stopword\n",
    "        word = remove_stopwords(word)\n",
    "        if word == '':\n",
    "            continue\n",
    "        #Stemming\n",
    "        stemmer = SnowballStemmer('english')\n",
    "        word = stemmer.stem(word) \n",
    "        new_tokenized += (word + ' ')\n",
    "    X_clean.append(new_tokenized.lstrip())\n",
    "\n",
    "X_clean[0]"
   ]
  },
  {
   "cell_type": "code",
   "execution_count": null,
   "metadata": {},
   "outputs": [],
   "source": [
    "from sklearn.model_selection import train_test_split\n",
    "import numpy as np\n",
    "X_train,X_test,y_train,y_test = train_test_split(X_clean,y_clean,test_size=0.3,random_state=101)\n",
    "print(np.array(X_train).shape)\n",
    "print(np.array(X_test).shape)"
   ]
  },
  {
   "cell_type": "code",
   "execution_count": null,
   "metadata": {},
   "outputs": [],
   "source": [
    "from sklearn.feature_extraction.text import TfidfVectorizer\n",
    "vect = TfidfVectorizer(ngram_range=(1,2))\n",
    "vect.fit(X_clean)\n",
    "X_train = vect.transform(X_train)\n",
    "X_test = vect.transform(X_test)"
   ]
  },
  {
   "cell_type": "code",
   "execution_count": null,
   "metadata": {},
   "outputs": [],
   "source": [
    "from sklearn.linear_model import LogisticRegression,SGDClassifier\n",
    "from sklearn.svm import SVC,LinearSVC\n",
    "from sklearn.naive_bayes import MultinomialNB,BernoulliNB,BaseDiscreteNB,GaussianNB\n",
    "from sklearn.neighbors import KNeighborsClassifier  \n",
    "import numpy as np\n",
    "\n",
    "model = LogisticRegression(n_jobs=-1,max_iter=1000)\n",
    "model.fit(X_train,y_train)\n",
    "y_predict = model.predict(X_test)"
   ]
  }
 ],
 "metadata": {
  "kernelspec": {
   "display_name": "Python 3",
   "language": "python",
   "name": "python3"
  },
  "language_info": {
   "codemirror_mode": {
    "name": "ipython",
    "version": 3
   },
   "file_extension": ".py",
   "mimetype": "text/x-python",
   "name": "python",
   "nbconvert_exporter": "python",
   "pygments_lexer": "ipython3",
   "version": "3.7.4-final"
  }
 },
 "nbformat": 4,
 "nbformat_minor": 2
}